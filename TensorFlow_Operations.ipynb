{
  "nbformat": 4,
  "nbformat_minor": 0,
  "metadata": {
    "colab": {
      "provenance": []
    },
    "kernelspec": {
      "name": "python3",
      "display_name": "Python 3"
    },
    "language_info": {
      "name": "python"
    }
  },
  "cells": [
    {
      "cell_type": "code",
      "source": [
        "import tensorflow as tf\n",
        "import numpy as np\n",
        "import matplotlib.pyplot as plt\n",
        "\n",
        "# Create various tensors\n",
        "scalar = tf.constant(5, dtype=tf.int32)\n",
        "vector = tf.constant([1, 2, 3], dtype=tf.float32)\n",
        "matrix = tf.constant([[1, 2], [3, 4]], dtype=tf.float64)\n",
        "tensor = tf.constant(np.random.rand(3, 3, 3), dtype=tf.float32)\n",
        "\n",
        "# Tensor properties\n",
        "print(\"Shape:\", tensor.shape)\n",
        "print(\"Data Type:\", tensor.dtype)\n",
        "print(\"Number of dimensions:\", tensor.ndim)\n",
        "\n",
        "# Casting tensor types\n",
        "float_tensor = tf.cast(vector, dtype=tf.float64)\n",
        "print(\"Casted Tensor Data Type:\", float_tensor.dtype)\n",
        "\n",
        "# Visualizing tensors\n",
        "plt.figure(figsize=(4, 4))\n",
        "plt.imshow(np.random.rand(10, 10), cmap='viridis')\n",
        "plt.title(\"Random Tensor Visualization\")\n",
        "plt.axis('off')\n",
        "plt.show()\n",
        "\n",
        "# Matrix multiplication visualization\n",
        "A = np.random.rand(5, 5)\n",
        "B = np.random.rand(5, 5)\n",
        "result = np.matmul(A, B)\n",
        "plt.figure(figsize=(6, 3))\n",
        "plt.subplot(1, 3, 1)\n",
        "plt.imshow(A, cmap='Blues')\n",
        "plt.title(\"Matrix A\")\n",
        "plt.axis('off')\n",
        "plt.subplot(1, 3, 2)\n",
        "plt.imshow(B, cmap='Greens')\n",
        "plt.title(\"Matrix B\")\n",
        "plt.axis('off')\n",
        "plt.subplot(1, 3, 3)\n",
        "plt.imshow(result, cmap='Purples')\n",
        "plt.title(\"Result (A x B)\")\n",
        "plt.axis('off')\n",
        "plt.show()\n",
        "\n",
        "# Basic operations\n",
        "add = tf.add(vector, 10)\n",
        "sub = tf.subtract(vector, 2)\n",
        "mul = tf.multiply(vector, 3)\n",
        "div = tf.divide(vector, 2)\n",
        "\n",
        "print(\"Addition:\", add.numpy())\n",
        "print(\"Subtraction:\", sub.numpy())\n",
        "print(\"Multiplication:\", mul.numpy())\n",
        "print(\"Division:\", div.numpy())\n",
        "\n",
        "# Einsum visualization\n",
        "x = np.array([[1, 2], [3, 4]])\n",
        "y = np.array([[5, 6], [7, 8]])\n",
        "einsum_matrix_multiplication = np.einsum('ij,jk->ik', x, y)\n",
        "plt.figure(figsize=(5, 5))\n",
        "plt.imshow(einsum_matrix_multiplication, cmap='magma')\n",
        "plt.title(\"Einsum Matrix Multiplication\")\n",
        "plt.axis('off')\n",
        "plt.show()\n",
        "\n",
        "# Einsum operations\n",
        "A = tf.constant([[1, 2], [3, 4]], dtype=tf.float32)\n",
        "B = tf.constant([[5, 6], [7, 8]], dtype=tf.float32)\n",
        "einsum_sum = tf.einsum('ij->', A)\n",
        "einsum_elementwise = tf.einsum('ij,ij->ij', A, B)\n",
        "einsum_outer = tf.einsum('i,j->ij', vector, vector)\n",
        "\n",
        "print(\"Einsum Summation:\", einsum_sum.numpy())\n",
        "print(\"Einsum Element-wise Multiplication:\\n\", einsum_elementwise.numpy())\n",
        "print(\"Einsum Outer Product:\\n\", einsum_outer.numpy())\n",
        "\n",
        "# Advanced operations\n",
        "reshaped_tensor = tf.reshape(tensor, [9, 3])\n",
        "sliced_tensor = tensor[:, :2, :]\n",
        "concatenated_tensor = tf.concat([matrix, matrix], axis=0)\n",
        "stacked_tensor = tf.stack([matrix, matrix], axis=0)\n",
        "\n",
        "eye_matrix = tf.eye(3)\n",
        "diag_matrix = tf.linalg.diag([1, 2, 3])\n",
        "trace_val = tf.linalg.trace(matrix)\n",
        "\n",
        "tensor_norm = tf.norm(matrix)\n",
        "rank_tensor = tf.rank(matrix)\n",
        "\n",
        "eigenvalues, eigenvectors = tf.linalg.eigh(tf.constant([[6., 2.], [2., 3.]]))\n",
        "\n",
        "print(\"Reshaped Tensor Shape:\", reshaped_tensor.shape)\n",
        "print(\"Sliced Tensor Shape:\", sliced_tensor.shape)\n",
        "print(\"Concatenated Tensor Shape:\", concatenated_tensor.shape)\n",
        "print(\"Stacked Tensor Shape:\", stacked_tensor.shape)\n",
        "print(\"Identity Matrix:\\n\", eye_matrix.numpy())\n",
        "print(\"Diagonal Matrix:\\n\", diag_matrix.numpy())\n",
        "print(\"Trace of Matrix:\", trace_val.numpy())\n",
        "print(\"Tensor Norm:\", tensor_norm.numpy())\n",
        "print(\"Tensor Rank:\", rank_tensor.numpy())\n",
        "print(\"Eigenvalues:\", eigenvalues.numpy())\n",
        "print(\"Eigenvectors:\\n\", eigenvectors.numpy())\n",
        "\n",
        "# Broadcasting example\n",
        "a = tf.constant([1, 2, 3])\n",
        "b = tf.constant([[1], [2], [3]])\n",
        "broadcast_result = a + b\n",
        "print(\"Broadcasting Result:\\n\", broadcast_result.numpy())\n",
        "\n",
        "plt.figure(figsize=(4, 4))\n",
        "plt.imshow(broadcast_result.numpy(), cmap='coolwarm')\n",
        "plt.title(\"Broadcasting Example\")\n",
        "plt.axis('off')\n",
        "plt.show()\n",
        "\n",
        "# Gradient computation\n",
        "x = tf.Variable(3.0)\n",
        "with tf.GradientTape() as tape:\n",
        "    y = x ** 2 + 3 * x + 5\n",
        "\n",
        "gradient = tape.gradient(y, x)\n",
        "print(\"Gradient dy/dx:\", gradient.numpy())"
      ],
      "metadata": {
        "colab": {
          "base_uri": "https://localhost:8080/",
          "height": 1000
        },
        "id": "uVwizXJlroqX",
        "outputId": "6fc82c72-cb13-4621-920d-7ccbebeb9659"
      },
      "execution_count": 7,
      "outputs": [
        {
          "output_type": "stream",
          "name": "stdout",
          "text": [
            "Shape: (3, 3, 3)\n",
            "Data Type: <dtype: 'float32'>\n",
            "Number of dimensions: 3\n",
            "Casted Tensor Data Type: <dtype: 'float64'>\n"
          ]
        },
        {
          "output_type": "display_data",
          "data": {
            "text/plain": [
              "<Figure size 400x400 with 1 Axes>"
            ],
            "image/png": "[encoded data removed]"
          },
          "metadata": {}
        },
        {
          "output_type": "display_data",
          "data": {
            "text/plain": [
              "<Figure size 600x300 with 3 Axes>"
            ],
            "image/png": "[encoded data removed]"
          },
          "metadata": {}
        },
        {
          "output_type": "stream",
          "name": "stdout",
          "text": [
            "Addition: [11. 12. 13.]\n",
            "Subtraction: [-1.  0.  1.]\n",
            "Multiplication: [3. 6. 9.]\n",
            "Division: [0.5 1.  1.5]\n"
          ]
        },
        {
          "output_type": "display_data",
          "data": {
            "text/plain": [
              "<Figure size 500x500 with 1 Axes>"
            ],
            "image/png": "[encoded data removed]"
          },
          "metadata": {}
        },
        {
          "output_type": "stream",
          "name": "stdout",
          "text": [
            "Einsum Summation: 10.0\n",
            "Einsum Element-wise Multiplication:\n",
            " [[ 5. 12.]\n",
            " [21. 32.]]\n",
            "Einsum Outer Product:\n",
            " [[1. 2. 3.]\n",
            " [2. 4. 6.]\n",
            " [3. 6. 9.]]\n",
            "Reshaped Tensor Shape: (9, 3)\n",
            "Sliced Tensor Shape: (3, 2, 3)\n",
            "Concatenated Tensor Shape: (4, 2)\n",
            "Stacked Tensor Shape: (2, 2, 2)\n",
            "Identity Matrix:\n",
            " [[1. 0. 0.]\n",
            " [0. 1. 0.]\n",
            " [0. 0. 1.]]\n",
            "Diagonal Matrix:\n",
            " [[1 0 0]\n",
            " [0 2 0]\n",
            " [0 0 3]]\n",
            "Trace of Matrix: 5.0\n",
            "Tensor Norm: 5.477225575051661\n",
            "Tensor Rank: 2\n",
            "Eigenvalues: [1.9999999 7.       ]\n",
            "Eigenvectors:\n",
            " [[-0.4472136  0.8944272]\n",
            " [ 0.8944272  0.4472136]]\n",
            "Broadcasting Result:\n",
            " [[2 3 4]\n",
            " [3 4 5]\n",
            " [4 5 6]]\n"
          ]
        },
        {
          "output_type": "display_data",
          "data": {
            "text/plain": [
              "<Figure size 400x400 with 1 Axes>"
            ],
            "image/png": "[encoded data removed]"
          },
          "metadata": {}
        },
        {
          "output_type": "stream",
          "name": "stdout",
          "text": [
            "Gradient dy/dx: 9.0\n"
          ]
        }
      ]
    },
    {
      "cell_type": "code",
      "source": [],
      "metadata": {
        "id": "AT2BXlTQr2O7"
      },
      "execution_count": null,
      "outputs": []
    }
  ]
}